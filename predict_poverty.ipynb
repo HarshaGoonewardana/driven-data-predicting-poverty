{
 "cells": [
  {
   "cell_type": "markdown",
   "metadata": {},
   "source": [
    "### Import Libraries"
   ]
  },
  {
   "cell_type": "markdown",
   "metadata": {},
   "source": [
    "The random forest model is imported from the h2o library since sklearn cannot directly handle categorical variables with multiple categories. One-hot encoding potentially loses some of the information. Refer to https://roamanalytics.com/2016/10/28/are-categorical-variables-getting-lost-in-your-random-forests/ for more details."
   ]
  },
  {
   "cell_type": "code",
   "execution_count": 1,
   "metadata": {},
   "outputs": [
    {
     "name": "stderr",
     "output_type": "stream",
     "text": [
      "C:\\Users\\Karthik\\Anaconda3\\lib\\site-packages\\sklearn\\cross_validation.py:44: DeprecationWarning: This module was deprecated in version 0.18 in favor of the model_selection module into which all the refactored classes and functions are moved. Also note that the interface of the new CV iterators are different from that of this module. This module will be removed in 0.20.\n",
      "  \"This module will be removed in 0.20.\", DeprecationWarning)\n"
     ]
    }
   ],
   "source": [
    "import pandas as pd\n",
    "import numpy as np\n",
    "import sklearn.linear_model as sklm\n",
    "from sklearn.model_selection import KFold\n",
    "import sklearn.metrics as skm\n",
    "import sklearn.ensemble as ske\n",
    "import sklearn.preprocessing as skp\n",
    "from sklearn.feature_selection import VarianceThreshold\n",
    "from fancyimpute import SimpleFill, KNN, MICE, SoftImpute\n",
    "from imblearn.over_sampling import SMOTE\n",
    "import h2o\n",
    "from h2o.estimators import H2ORandomForestEstimator\n",
    "from sklearn.linear_model import LinearRegression\n",
    "import skmice\n",
    "import matplotlib.pyplot as plt\n",
    "import pdb\n",
    "%matplotlib inline"
   ]
  },
  {
   "cell_type": "markdown",
   "metadata": {},
   "source": [
    "### Train logistic regression and random forest models"
   ]
  },
  {
   "cell_type": "code",
   "execution_count": 2,
   "metadata": {
    "collapsed": true
   },
   "outputs": [],
   "source": [
    "def lr_train(X_train, y_train, penalty, reg_const):\n",
    "\tmodel = sklm.LogisticRegression(penalty = penalty, C = reg_const)\n",
    "\tmodel.fit(X_train, y_train)\n",
    "\treturn model"
   ]
  },
  {
   "cell_type": "code",
   "execution_count": 3,
   "metadata": {
    "collapsed": true
   },
   "outputs": [],
   "source": [
    "def h2o_rf_train(X_train, y_train):\n",
    "\tdf_train = pd.concat([X_train, y_train], axis=1)\n",
    "\th_train = h2o.H2OFrame(df_train)\n",
    "\tmodel = H2ORandomForestEstimator(ntrees=200, max_depth = 5, mtries = int(df_train.shape[1]/5), seed=1000000)\n",
    "\tmodel.train(X_train.columns.tolist(), 'poor', training_frame = h_train)\n",
    "\treturn model"
   ]
  },
  {
   "cell_type": "markdown",
   "metadata": {},
   "source": [
    "### Functions for model predictions"
   ]
  },
  {
   "cell_type": "code",
   "execution_count": 4,
   "metadata": {
    "collapsed": true
   },
   "outputs": [],
   "source": [
    "def sklearn_predict(model, X_test):\n",
    "\tpred = model.predict(X_test)\n",
    "\tprobs = model.predict_proba(X_test)\n",
    "\tpoor_probs = probs[:, 1]\n",
    "\treturn pred, poor_probs"
   ]
  },
  {
   "cell_type": "code",
   "execution_count": 5,
   "metadata": {
    "collapsed": true
   },
   "outputs": [],
   "source": [
    "def h2o_rf_predict(model, X_test):\n",
    "\tX_test_h2o = h2o.H2OFrame(X_test)\n",
    "\th_pred = model.predict(X_test_h2o)\n",
    "\tpred = h_pred.as_data_frame()['predict']\n",
    "\tpoor_probs = h_pred.as_data_frame()['True']\n",
    "\treturn pred, poor_probs"
   ]
  },
  {
   "cell_type": "markdown",
   "metadata": {},
   "source": [
    "###  Evaluate the performance of the model using k-fold validation"
   ]
  },
  {
   "cell_type": "markdown",
   "metadata": {},
   "source": [
    "The evaluation metrics are mean log loss (the metric in the competition) and the AUC score."
   ]
  },
  {
   "cell_type": "code",
   "execution_count": 6,
   "metadata": {
    "collapsed": true
   },
   "outputs": [],
   "source": [
    "def model_evaluate_cv(X_train, y_train, country, penalty, reg_const, k = 5):\n",
    "\t# k-fold cross validation\n",
    "\tprint(\"Performance on cross validation\")\n",
    "\tlog_losses = []\n",
    "\tauc_scores = []\n",
    "\tkf = KFold(n_splits = k, shuffle = True)\n",
    "\tfor train, val in kf.split(X_train):\n",
    "\t\tX_train_kf, X_val_kf, y_train_kf, y_val_kf = X_train.iloc[train], X_train.iloc[val], y_train.iloc[train], y_train.iloc[val]\n",
    "\t\tif country == \"A\":\n",
    "\t\t\tdf, mean_log_loss = model_build_country_A(X_train_kf, y_train_kf, X_val_kf, range(len(X_val_kf)), penalty, reg_const, evaluate = False)\n",
    "\t\telif country == \"B\":\n",
    "\t\t\tdf, mean_log_loss = model_build_country_B(X_train_kf, y_train_kf, X_val_kf, range(len(X_val_kf)), penalty, reg_const, evaluate = False)\n",
    "\t\telse:\n",
    "\t\t\tdf, mean_log_loss = model_build_country_C(X_train_kf, y_train_kf, X_val_kf, range(len(X_val_kf)), penalty, reg_const, evaluate = False)\n",
    "\t\tlog_loss_kf = skm.log_loss(y_true = y_val_kf, y_pred = df['poor'])\n",
    "\t\tlog_losses.append(log_loss_kf)\n",
    "\t\tauc_score = get_auc_score(y_val_kf, df['poor'])\n",
    "\t\tauc_scores.append(auc_score)\n",
    "\tprint(\"Mean Log loss: \", sum(log_losses)/len(log_losses))\n",
    "\tprint(\"Mean AUC score: \", sum(auc_scores)/len(auc_scores))\n",
    "\tprint(\"\\n\")\n",
    "\treturn sum(log_losses)/len(log_losses)"
   ]
  },
  {
   "cell_type": "markdown",
   "metadata": {},
   "source": [
    "### Evaluate performance on the training set"
   ]
  },
  {
   "cell_type": "markdown",
   "metadata": {},
   "source": [
    "Calculate the training set performance to compare the difference in performance between training and validation. This helps evaluate if the model is underfitting or overfitting:\n",
    "\n",
    "* If the performance in the training set is much higher than the performance on the validation set, then the model is overfitting. \n",
    "* If the performance on the training set and the validations set are both low, then the model is underfitting. \n",
    "* If the performance on the training set and the validations set are both comparable and good, then the model is neither underfitting nor overfitting."
   ]
  },
  {
   "cell_type": "code",
   "execution_count": 7,
   "metadata": {
    "collapsed": true
   },
   "outputs": [],
   "source": [
    "def model_evaluate_training(X_train, y_train, model):\n",
    "\tpred_train, probs_train = sklearn_predict(model, X_train)\n",
    "\t# pred_train, probs_train = h2o_rf_predict(model, X_train)\n",
    "\tlog_loss_train = skm.log_loss(y_true = y_train, y_pred = probs_train)\n",
    "\tauc_score_train = get_auc_score(y_train, probs_train, plot = True)\n",
    "\treturn log_loss_train, auc_score_train"
   ]
  },
  {
   "cell_type": "code",
   "execution_count": 8,
   "metadata": {
    "collapsed": true
   },
   "outputs": [],
   "source": [
    "def get_auc_score(y, probs, plot = False):\n",
    "\tif plot:\n",
    "\t\tfpr, tpr, thresholds = skm.roc_curve(y_true = y, y_score = probs)\n",
    "\t\tplt.plot(fpr, tpr, 'k-o')\n",
    "\t\tplt.ylim(0,1.05)\n",
    "\t\tplt.yticks(np.arange(0,1.05,0.2))\n",
    "\t\tplt.title('ROC Curve')\n",
    "\t\tplt.xlabel('False Positive Rate')\n",
    "\t\tplt.ylabel('True Positive Rate')\n",
    "\t\tplt.show()\n",
    "\tauc_score = skm.roc_auc_score(y_true = y, y_score = probs)\n",
    "\treturn auc_score"
   ]
  },
  {
   "cell_type": "markdown",
   "metadata": {},
   "source": [
    "### Feature Selection using variance of the features"
   ]
  },
  {
   "cell_type": "code",
   "execution_count": 9,
   "metadata": {
    "collapsed": true
   },
   "outputs": [],
   "source": [
    "def feature_select_variance(X_train, X_test, threshold_var = 0.01):\n",
    "\t# feature selection\n",
    "\tsel = VarianceThreshold(threshold = threshold_var)\n",
    "\tsel.fit(X_train)\n",
    "\tcols = X_train.columns[sel.get_support()]\n",
    "\tprint(\"Number of features selected: \", len(cols))\n",
    "\tX_train_sel = X_train[cols]\n",
    "\tX_test_sel = X_test[cols]\n",
    "\treturn X_train_sel, X_test_sel"
   ]
  },
  {
   "cell_type": "code",
   "execution_count": 10,
   "metadata": {
    "collapsed": true
   },
   "outputs": [],
   "source": [
    "def add_missing_dummy_variable_columns(X_train, X_test_raw):\n",
    "\tmissing_columns = set(X_train.columns) - set(X_test_raw.columns)\n",
    "\tdf_missing = pd.DataFrame(columns = list(missing_columns), index = X_test_raw.index)\n",
    "\tdf_missing = df_missing.fillna(0)\n",
    "\tX_test = pd.concat([X_test_raw, df_missing], axis = 1)\n",
    "\tX_test = X_test[X_train.columns]\n",
    "\tassert(X_test.columns.equals(X_train.columns))\n",
    "\treturn X_test"
   ]
  },
  {
   "cell_type": "markdown",
   "metadata": {},
   "source": [
    "### Missing value imputation"
   ]
  },
  {
   "cell_type": "markdown",
   "metadata": {},
   "source": [
    "Drop the columns that have more than 70% of the values missing. Fill in the missing values with a simple mean or soft impute algorithm from the fancyimpute library. Using the simple mean for ease of calculation in this notebook."
   ]
  },
  {
   "cell_type": "code",
   "execution_count": 11,
   "metadata": {
    "collapsed": true
   },
   "outputs": [],
   "source": [
    "def drop_high_missing_features(df, threshold=0.7):\n",
    "\t# drop columns missing over threshold\n",
    "\ts_missing_fraction = pd.isnull(df).sum()/df.shape[0]\n",
    "\thigh_missing_features = s_missing_fraction[s_missing_fraction > threshold].index\n",
    "\t# print(\"Number of features removed: \", len(high_missing_features))\n",
    "\tdf_low_miss = df.drop(high_missing_features, axis = 1)\n",
    "\treturn df_low_miss"
   ]
  },
  {
   "cell_type": "code",
   "execution_count": 12,
   "metadata": {
    "collapsed": true
   },
   "outputs": [],
   "source": [
    "def fill_missing_values(df):\n",
    "\tdf = drop_high_missing_features(df)\n",
    "\tis_missing = pd.isnull(df).sum().sum()\n",
    "\tif is_missing:\n",
    "\t\tarr_complete = SimpleFill().complete(df)\n",
    "\t\tdf = pd.DataFrame(arr_complete, columns = df.columns)\t\n",
    "\treturn df"
   ]
  },
  {
   "cell_type": "code",
   "execution_count": 13,
   "metadata": {
    "collapsed": true
   },
   "outputs": [],
   "source": [
    "def fill_missing_values_numeric_columns(df):\n",
    "\tdf_num = df.select_dtypes(include=[np.number])\n",
    "\tdf_non_num = df.select_dtypes(exclude=[np.number])\n",
    "\tdf_num_imputed = fill_missing_values(df_num)\n",
    "\tdf_imputed = pd.concat([df_num_imputed, df_non_num], axis=1)\n",
    "\treturn df_imputed"
   ]
  },
  {
   "cell_type": "markdown",
   "metadata": {},
   "source": [
    "### Aggregate features from the individiual-level surveys to the household level"
   ]
  },
  {
   "cell_type": "markdown",
   "metadata": {},
   "source": [
    "The objective of the compeition is to predict poverty at the household level. Therefore, aggregating the individual-level survey data and using it along with household-level survey data."
   ]
  },
  {
   "cell_type": "code",
   "execution_count": 14,
   "metadata": {
    "collapsed": true
   },
   "outputs": [],
   "source": [
    "def add_ind_features(df_hh, df_ind, country):\n",
    "\t# distribution of categorical variables\n",
    "\tdf_ind_obj = pd.concat([df_ind['id'], df_ind.select_dtypes(include=['object'])], axis = 1)\n",
    "\tdf_ind_cat = pd.get_dummies(df_ind_obj)\n",
    "\tdf_sum_by_hh_id = df_ind_cat.groupby('id').sum()\n",
    "\ts_num_people = df_sum_by_hh_id['country_' + country]\n",
    "\tdf_prop = df_sum_by_hh_id.drop(['country_' + country], axis = 1, errors = 'ignore').div(df_sum_by_hh_id['country_' + country], axis=0)\n",
    "\tdf_prop['num_people'] = s_num_people\n",
    "\tdf_cat_feat = df_prop.reset_index()\n",
    "\t# mean and std dev of numeric fields\n",
    "\tdf_ind_num = df_ind.select_dtypes(include=[np.number]).drop(['iid'], axis = 1)\n",
    "\tdf_ind_num_imputed = fill_missing_values(df_ind_num)\n",
    "\tdf_mean = df_ind_num_imputed.groupby('id').mean().reset_index()\n",
    "\tdf_std = df_ind_num_imputed.groupby('id').std().reset_index()\n",
    "\tdf_num_feat = pd.merge(df_mean, df_std, how = 'outer', on = 'id', suffixes = ['_mean', '_std'])\n",
    "\t# combine all features with hh features\n",
    "\tdf_ind_feat = pd.merge(df_cat_feat, df_num_feat, how = 'outer', on = 'id')\n",
    "\tdf_merge = pd.merge(df_hh, df_ind_feat, how = 'left', on = 'id')\n",
    "\treturn df_merge"
   ]
  },
  {
   "cell_type": "markdown",
   "metadata": {},
   "source": [
    "### Data preprocessing"
   ]
  },
  {
   "cell_type": "markdown",
   "metadata": {},
   "source": [
    "Umbrella function to read the data, convert categorical variables into binary variables for logistic regression, fill missing values and perform feature selection based on variance."
   ]
  },
  {
   "cell_type": "code",
   "execution_count": 15,
   "metadata": {
    "collapsed": true
   },
   "outputs": [],
   "source": [
    "def preprocess_data(country, dummy = True):\n",
    "\tprint(\"Country %s\\n\" %country)\n",
    "\t# read datasets\n",
    "\tdf_hh_train = pd.read_csv(\"data/\" + country + \"_hhold_train.csv\")\n",
    "\tdf_hh_test = pd.read_csv(\"data/\" + country + \"_hhold_test.csv\")\n",
    "\tdf_ind_train = pd.read_csv(\"data/\" + country + \"_indiv_train.csv\")\n",
    "\tdf_ind_test = pd.read_csv(\"data/\" + country + \"_indiv_test.csv\")\n",
    "\n",
    "\t# add individual data to household data\n",
    "\tdf_all_train = add_ind_features(df_hh_train, df_ind_train, country)\n",
    "\tdf_all_test = add_ind_features(df_hh_test, df_ind_test, country)\n",
    "\t\n",
    "\tdf_train = df_all_train.drop(['id', 'country'], axis = 1)\n",
    "\tdf_test = df_all_test.drop(['id', 'country'], axis = 1)\n",
    "\t\n",
    "\tif dummy:\n",
    "\t\tdf_train = pd.get_dummies(df_train)\n",
    "\t\tdf_test = pd.get_dummies(df_test)\n",
    "\n",
    "\tX_train = df_train.drop(['poor'], axis = 1)\n",
    "\ty_train = df_train['poor']\n",
    "\n",
    "\tprint(\"Number of training examples: \", X_train.shape[0])\n",
    "\tprint(\"Number of features: \", X_train.shape[1])\n",
    "\n",
    "\t# add missing dummy variables in test set and fill missing values\n",
    "\tX_test_raw = df_test\n",
    "\tX_test = add_missing_dummy_variable_columns(X_train, X_test_raw)\n",
    "\t\n",
    "\t# fill missing values\n",
    "\tif dummy:\n",
    "\t\tX_train = fill_missing_values(X_train)\n",
    "\t\tX_test = fill_missing_values(X_test)\n",
    "\telse:\n",
    "\t\t# fill missing values only for numeric columns\n",
    "\t\tX_train = fill_missing_values_numeric_columns(X_train)\n",
    "\t\tX_test = fill_missing_values_numeric_columns(df_test)\n",
    "\n",
    "\tlow_missing_cols = list(set(X_train.columns).intersection(set(X_test.columns)))\n",
    "\tX_train = X_train[low_missing_cols]\n",
    "\tX_test = X_test[low_missing_cols]\n",
    "\n",
    "\t# feature selection based on variance\n",
    "\tX_train, X_test = feature_select_variance(X_train, X_test)\n",
    "\n",
    "\ttest_ids = df_hh_test['id']\n",
    "\treturn X_train, y_train, X_test, test_ids"
   ]
  },
  {
   "cell_type": "code",
   "execution_count": 16,
   "metadata": {},
   "outputs": [],
   "source": [
    "def model_evaluate(model, country, penalty, reg_const, X_train, y_train):\n",
    "\tlog_loss_train, auc_score_train = model_evaluate_training(X_train, y_train, model)\n",
    "\tprint(\"Performance on training set\")\n",
    "\tprint(\"Log loss: \", log_loss_train)\n",
    "\tprint(\"AUC: \", auc_score_train)\n",
    "\tprint(\"\\n\")    \n",
    "\tmean_log_loss = model_evaluate_cv(X_train, y_train, country, penalty, reg_const, k=5)\n",
    "\treturn mean_log_loss"
   ]
  },
  {
   "cell_type": "code",
   "execution_count": 17,
   "metadata": {
    "collapsed": true
   },
   "outputs": [],
   "source": [
    "def model_predict(model, X_test, country, ids):\n",
    "\tpred, probs = sklearn_predict(model, X_test)\n",
    "\t# pred, probs = h2o_rf_predict(model, X_test)\n",
    "\tdf_cols = pd.DataFrame({\"id\": ids, \"country\": country, \"poor\": probs})\n",
    "\tdf = df_cols[['id', 'country', 'poor']]\n",
    "\treturn df"
   ]
  },
  {
   "cell_type": "markdown",
   "metadata": {},
   "source": [
    "### Build supervised models for the three countries to predict poor households in the test set"
   ]
  },
  {
   "cell_type": "markdown",
   "metadata": {},
   "source": [
    "Since the three countries have different characteristics, having them as three different functions allows us to use different models for each of the countries. However, at this point, I use regularized logistic regression for all the three countries."
   ]
  },
  {
   "cell_type": "code",
   "execution_count": 18,
   "metadata": {
    "collapsed": true
   },
   "outputs": [],
   "source": [
    "def model_build_country_A(X_train, y_train, X_test, test_ids, penalty, reg_const, evaluate = True):\n",
    "\tmodel = lr_train(X_train, y_train, penalty, reg_const)\n",
    "\tmean_log_loss = model_evaluate(model, \"A\", penalty, reg_const, X_train, y_train) if evaluate else None \n",
    "\tdf = model_predict(model, X_test, country = \"A\", ids = test_ids)\n",
    "\treturn df, mean_log_loss"
   ]
  },
  {
   "cell_type": "code",
   "execution_count": 19,
   "metadata": {
    "collapsed": true
   },
   "outputs": [],
   "source": [
    "def model_build_country_B(X_train, y_train, X_test, test_ids, penalty, reg_const, evaluate = True):\n",
    "\tmodel = lr_train(X_train, y_train, penalty, reg_const)\n",
    "\tmean_log_loss = model_evaluate(model, \"B\", penalty, reg_const, X_train, y_train) if evaluate else None\n",
    "\tdf = model_predict(model, X_test, country = \"B\", ids = test_ids)\n",
    "\treturn df, mean_log_loss"
   ]
  },
  {
   "cell_type": "code",
   "execution_count": 20,
   "metadata": {
    "collapsed": true
   },
   "outputs": [],
   "source": [
    "def model_build_country_C(X_train, y_train, X_test, test_ids, penalty, reg_const, evaluate = True):\n",
    "\tmodel = lr_train(X_train, y_train, penalty, reg_const)\n",
    "\tmean_log_loss = model_evaluate(model, \"C\", penalty, reg_const, X_train, y_train) if evaluate else None\n",
    "\tdf = model_predict(model, X_test, country = \"C\", ids = test_ids)\n",
    "\treturn df, mean_log_loss"
   ]
  },
  {
   "cell_type": "markdown",
   "metadata": {},
   "source": [
    "### Performance on training and cross-validation"
   ]
  },
  {
   "cell_type": "code",
   "execution_count": 21,
   "metadata": {},
   "outputs": [
    {
     "name": "stdout",
     "output_type": "stream",
     "text": [
      "Country A\n",
      "\n",
      "Number of training examples:  8203\n",
      "Number of features:  1134\n",
      "Number of features selected:  775\n"
     ]
    },
    {
     "data": {
      "image/png": "[encoded data removed]",
      "text/plain": [
       "<matplotlib.figure.Figure at 0x5fdcac8>"
      ]
     },
     "metadata": {},
     "output_type": "display_data"
    },
    {
     "name": "stdout",
     "output_type": "stream",
     "text": [
      "Performance on training set\n",
      "Log loss:  0.231176452118\n",
      "AUC:  0.967364719297\n",
      "\n",
      "\n",
      "Performance on cross validation\n",
      "Mean Log loss:  0.270520766889\n",
      "Mean AUC score:  0.954478088383\n",
      "\n",
      "\n"
     ]
    }
   ],
   "source": [
    "# h2o.init()\n",
    "X_train_a, y_train_a, X_test_a, test_ids_a = preprocess_data(country = \"A\", dummy = True)\n",
    "df_a, log_loss_a = model_build_country_A(X_train_a, y_train_a, X_test_a, test_ids_a, penalty = \"l2\", reg_const = 0.1)"
   ]
  },
  {
   "cell_type": "code",
   "execution_count": 22,
   "metadata": {},
   "outputs": [
    {
     "name": "stdout",
     "output_type": "stream",
     "text": [
      "Country B\n",
      "\n",
      "Number of training examples:  3255\n",
      "Number of features:  3058\n",
      "Number of features selected:  1518\n"
     ]
    },
    {
     "data": {
      "image/png": "[encoded data removed]",
      "text/plain": [
       "<matplotlib.figure.Figure at 0xfaeadd8>"
      ]
     },
     "metadata": {},
     "output_type": "display_data"
    },
    {
     "name": "stdout",
     "output_type": "stream",
     "text": [
      "Performance on training set\n",
      "Log loss:  0.160840673614\n",
      "AUC:  0.931034848621\n",
      "\n",
      "\n",
      "Performance on cross validation\n",
      "Mean Log loss:  0.205647739457\n",
      "Mean AUC score:  0.854928183826\n",
      "\n",
      "\n"
     ]
    }
   ],
   "source": [
    "X_train_b, y_train_b, X_test_b, test_ids_b = preprocess_data(country = \"B\", dummy = True)\n",
    "df_b, log_loss_b = model_build_country_B(X_train_b, y_train_b, X_test_b, test_ids_b, penalty = \"l2\", reg_const = 0.01)"
   ]
  },
  {
   "cell_type": "code",
   "execution_count": 23,
   "metadata": {},
   "outputs": [
    {
     "name": "stdout",
     "output_type": "stream",
     "text": [
      "Country C\n",
      "\n",
      "Number of training examples:  6469\n",
      "Number of features:  1099\n",
      "Number of features selected:  687\n"
     ]
    },
    {
     "data": {
      "image/png": "[encoded data removed]",
      "text/plain": [
       "<matplotlib.figure.Figure at 0xf336080>"
      ]
     },
     "metadata": {},
     "output_type": "display_data"
    },
    {
     "name": "stdout",
     "output_type": "stream",
     "text": [
      "Performance on training set\n",
      "Log loss:  0.0193993886694\n",
      "AUC:  0.99951024832\n",
      "\n",
      "\n",
      "Performance on cross validation\n",
      "Mean Log loss:  0.0420742836666\n",
      "Mean AUC score:  0.99819957658\n",
      "\n",
      "\n"
     ]
    }
   ],
   "source": [
    "X_train_c, y_train_c, X_test_c, test_ids_c = preprocess_data(country = \"C\", dummy = True)\n",
    "df_c, log_loss_c = model_build_country_C(X_train_c, y_train_c, X_test_c, test_ids_c, penalty = \"l1\", reg_const = 1)"
   ]
  },
  {
   "cell_type": "code",
   "execution_count": 24,
   "metadata": {},
   "outputs": [
    {
     "name": "stdout",
     "output_type": "stream",
     "text": [
      "Model Log Loss:  0.176304816025\n"
     ]
    }
   ],
   "source": [
    "df = pd.concat([df_a, df_b, df_c], ignore_index = True)\n",
    "nrows = [len(df_a), len(df_b), len(df_c)]\n",
    "wts = [x/sum(nrows) for x in nrows]\n",
    "wtd_log_loss = np.dot(wts, [log_loss_a, log_loss_b, log_loss_c])\n",
    "print(\"Model Log Loss: \", wtd_log_loss)\n",
    "# h2o.shutdown(prompt=False)"
   ]
  },
  {
   "cell_type": "code",
   "execution_count": 25,
   "metadata": {
    "collapsed": true
   },
   "outputs": [],
   "source": [
    "df.to_csv(\"output/poverty_predictions_from_notebook.csv\", index = False)"
   ]
  }
 ],
 "metadata": {
  "kernelspec": {
   "display_name": "Python 3",
   "language": "python",
   "name": "python3"
  },
  "language_info": {
   "codemirror_mode": {
    "name": "ipython",
    "version": 3
   },
   "file_extension": ".py",
   "mimetype": "text/x-python",
   "name": "python",
   "nbconvert_exporter": "python",
   "pygments_lexer": "ipython3",
   "version": "3.4.4"
  }
 },
 "nbformat": 4,
 "nbformat_minor": 2
}
